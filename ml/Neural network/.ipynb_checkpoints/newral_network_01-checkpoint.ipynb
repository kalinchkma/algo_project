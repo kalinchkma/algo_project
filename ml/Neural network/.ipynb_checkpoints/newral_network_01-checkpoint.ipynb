{
 "cells": [
  {
   "cell_type": "markdown",
   "id": "115730ef",
   "metadata": {},
   "source": [
    "# Neural Network from scratch"
   ]
  },
  {
   "cell_type": "code",
   "execution_count": 1,
   "id": "898828bf-c849-4c5f-8461-70d7a8b31f2a",
   "metadata": {},
   "outputs": [],
   "source": [
    "import numpy as np\n",
    "import pandas as pd\n",
    "import matplotlib.pyplot as plt"
   ]
  },
  {
   "cell_type": "markdown",
   "id": "c4d0be8a",
   "metadata": {
    "jp-MarkdownHeadingCollapsed": true
   },
   "source": [
    "## Single neuron\n",
    "\n",
    "- Each Neuron has a input, weight and biases\n",
    "- Weight and bias changes during training\n",
    "- The value of weight and biases are what get trained, and they are what make a model work or not work."
   ]
  },
  {
   "cell_type": "code",
   "execution_count": 2,
   "id": "16fa1c45",
   "metadata": {},
   "outputs": [
    {
     "name": "stdout",
     "output_type": "stream",
     "text": [
      "6.499999999999999\n"
     ]
    }
   ],
   "source": [
    "# Example of neuron that has a weights and bias\n",
    "'''\n",
    "This single neuron has a three inputs, \n",
    "- One neuron has only one bias\n",
    "'''\n",
    "inputs = [5, 7, 9]\n",
    "weights = [0.4, 0.7, -0.3]\n",
    "bias = 2.3\n",
    "\n",
    "# Output of this neuron\n",
    "'''\n",
    "Neuron calculation\n",
    "-> output = input*weights + bias\n",
    "'''\n",
    "output = (inputs[0]*weights[0] +\n",
    "          inputs[1]*weights[1] +\n",
    "          inputs[2]*weights[2] + bias)\n",
    "print(output)"
   ]
  },
  {
   "cell_type": "code",
   "execution_count": 3,
   "id": "348f5344",
   "metadata": {},
   "outputs": [
    {
     "name": "stdout",
     "output_type": "stream",
     "text": [
      "4.8\n"
     ]
    }
   ],
   "source": [
    "# Ex: Neuron with four inputs\n",
    "# ---\n",
    "# Neuron inputs\n",
    "inputs = [1.0, 2.0, 3.0, 2.5]\n",
    "weights = [0.2, 0.8, -0.5, 1.0]\n",
    "bias = 2.0\n",
    "# Neuron outputs\n",
    "output = inputs[0]*weights[0] + inputs[1]*weights[1] + inputs[2]*weights[2] + inputs[3]*weights[3] + bias\n",
    "\n",
    "print(output)\n"
   ]
  },
  {
   "cell_type": "markdown",
   "id": "d5cdf5ab",
   "metadata": {
    "jp-MarkdownHeadingCollapsed": true
   },
   "source": [
    "## A Layer of Neurons\n",
    "\n",
    "- In NN typically have layers that consist of more than one neuron. Layers are nothing more than groups of neurons\n",
    "- Neuron input can be trained data or output from previous neuron"
   ]
  },
  {
   "cell_type": "code",
   "execution_count": 4,
   "id": "5b000977",
   "metadata": {},
   "outputs": [
    {
     "name": "stdout",
     "output_type": "stream",
     "text": [
      "[4.8, 1.21, 2.385]\n"
     ]
    }
   ],
   "source": [
    "# Eg: layes that has 3 neuron and 4 inputs\n",
    "#---\n",
    "# inputs\n",
    "inputs = [1, 2, 3, 2.5]\n",
    "\n",
    "# weigths\n",
    "weights1 = [0.2, 0.8, -0.5, 1.0]\n",
    "weights2 = [0.5, -0.91, 0.26, -0.5]\n",
    "weights3 = [-0.26, -0.27, 0.17, 0.87]\n",
    "\n",
    "# bias\n",
    "bias1 = 2\n",
    "bias2 = 3\n",
    "bias3 = 0.5\n",
    "\n",
    "# layers of neurons\n",
    "layer = [\n",
    "    # Neuron 1:\n",
    "    inputs[0]*weights1[0] +\n",
    "    inputs[1]*weights1[1] +\n",
    "    inputs[2]*weights1[2] +\n",
    "    inputs[3]*weights1[3] + bias1,\n",
    "    \n",
    "    # Neuron 2:\n",
    "    inputs[0]*weights2[0] +\n",
    "    inputs[1]*weights2[1] +\n",
    "    inputs[2]*weights2[2] +\n",
    "    inputs[3]*weights2[3] + bias2,\n",
    "    \n",
    "    # Neuron 3:\n",
    "    inputs[0]*weights3[0] +\n",
    "    inputs[1]*weights3[1] +\n",
    "    inputs[2]*weights3[2] +\n",
    "    inputs[3]*weights3[3] + bias3\n",
    "]\n",
    "\n",
    "print(layer)\n",
    "\n"
   ]
  },
  {
   "cell_type": "markdown",
   "id": "169e848f",
   "metadata": {
    "jp-MarkdownHeadingCollapsed": true
   },
   "source": [
    "## Upgrading current method of calculating nn"
   ]
  },
  {
   "cell_type": "code",
   "execution_count": 5,
   "id": "ceb03a02",
   "metadata": {},
   "outputs": [
    {
     "name": "stdout",
     "output_type": "stream",
     "text": [
      "[4.8, 1.21, 2.385]\n"
     ]
    }
   ],
   "source": [
    "# Previous exemple with upgraded method\n",
    "# initial inputs, weight and biases\n",
    "inputs = [1, 2, 3, 2.5]\n",
    "weights = [[0.2, 0.8, -0.5, 1],\n",
    "           [0.5, -0.91, 0.26, -0.5],\n",
    "           [-0.26, -0.27, 0.17, 0.87]]\n",
    "biases = [2, 3, 0.5]\n",
    "\n",
    "# Output layers\n",
    "layer = []\n",
    "\n",
    "# Iterare for each neuron\n",
    "for neuron_weights, neuron_bias in zip(weights, biases):\n",
    "    # Output of given neuron\n",
    "    neuron_output = 0\n",
    "    # calulating for each input and weight\n",
    "    for n_input, weight in zip(inputs, neuron_weights):\n",
    "        # Multiply this input by associated weight\n",
    "        # and add to the neuron output variable\n",
    "        neuron_output += n_input*weight\n",
    "    # Add bias to neuron\n",
    "    neuron_output += neuron_bias\n",
    "    # Put neuron output to layer\n",
    "    layer.append(neuron_output)\n",
    "\n",
    "print(layer)\n",
    "\n"
   ]
  },
  {
   "cell_type": "markdown",
   "id": "5706d5ad",
   "metadata": {
    "jp-MarkdownHeadingCollapsed": true
   },
   "source": [
    "## Tensor, Arrays and Vectors\n",
    "\n",
    "- A Tensor object is an object that can be represented as an array\n",
    "- Vector can be call a list in Python and Array others\n",
    "- Matrics can be call list of list on Python"
   ]
  },
  {
   "cell_type": "code",
   "execution_count": 6,
   "id": "7ae91150",
   "metadata": {},
   "outputs": [
    {
     "name": "stdout",
     "output_type": "stream",
     "text": [
      "[[[2, 4, 9], [5, 3, 5]], [[5, 8, 1], [4, 7, 9.2]]] \n",
      " [2, 4, 1, 4] \n",
      " [[3, 2], [4, 1], [2, 1]]\n"
     ]
    }
   ],
   "source": [
    "tensor = [[[2, 4, 9],\n",
    "          [5, 3, 5]],\n",
    "         [[5, 8, 1],\n",
    "          [4, 7,9.2]]]\n",
    "\n",
    "vector = [2, 4, 1, 4] # array\n",
    "\n",
    "matrics = [[3, 2],\n",
    "          [4, 1],\n",
    "          [2, 1]]\n",
    "\n",
    "print(tensor,\"\\n\",vector,\"\\n\", matrics)"
   ]
  },
  {
   "cell_type": "markdown",
   "id": "2a29654d",
   "metadata": {
    "jp-MarkdownHeadingCollapsed": true
   },
   "source": [
    "## Dot Product and Vector Addition\n",
    "- A dot product of two vectors is a sum of product of consecutive vector elements\n",
    "- Both vectors must be of the same size"
   ]
  },
  {
   "cell_type": "code",
   "execution_count": 7,
   "id": "e4acd782",
   "metadata": {},
   "outputs": [
    {
     "data": {
      "text/plain": [
       "20"
      ]
     },
     "execution_count": 7,
     "metadata": {},
     "output_type": "execute_result"
    }
   ],
   "source": [
    "a = [1, 2, 3]\n",
    "b = [2, 3, 4]\n",
    "dot_product = a[0]*b[0] + a[1]*b[1] + a[2]*b[2]\n",
    "dot_product"
   ]
  },
  {
   "cell_type": "markdown",
   "id": "2a257706",
   "metadata": {
    "jp-MarkdownHeadingCollapsed": true
   },
   "source": [
    "## Single Neuron with Numpy"
   ]
  },
  {
   "cell_type": "code",
   "execution_count": 8,
   "id": "17bce684",
   "metadata": {},
   "outputs": [
    {
     "data": {
      "text/plain": [
       "4.8"
      ]
     },
     "execution_count": 8,
     "metadata": {},
     "output_type": "execute_result"
    }
   ],
   "source": [
    "import numpy as np\n",
    "\n",
    "inputs = [1.0, 2.0, 3.0, 2.5]\n",
    "weights = [0.2, 0.8, -0.5, 1.0]\n",
    "bias = 2.0\n",
    "\n",
    "output = np.dot(weights, inputs) + bias\n",
    "output"
   ]
  },
  {
   "cell_type": "markdown",
   "id": "4d245c58",
   "metadata": {
    "jp-MarkdownHeadingCollapsed": true
   },
   "source": [
    "## A Layer of Neurons with NumPy\n"
   ]
  },
  {
   "cell_type": "code",
   "execution_count": 9,
   "id": "629bcc21",
   "metadata": {},
   "outputs": [
    {
     "data": {
      "text/plain": [
       "array([4.8  , 1.21 , 2.385])"
      ]
     },
     "execution_count": 9,
     "metadata": {},
     "output_type": "execute_result"
    }
   ],
   "source": [
    "inputs = [1.0, 2.0, 3.0, 2.5]\n",
    "weights = [[0.2, 0.8, -0.5, 1],\n",
    "          [0.5, -0.91, 0.26, -0.5],\n",
    "          [-0.26, -0.27, 0.17, 0.87]]\n",
    "biases = [2.0, 3.0, 0.5]\n",
    "\n",
    "layer_outputs = np.dot(weights, inputs) + biases\n",
    "\n",
    "layer_outputs"
   ]
  },
  {
   "cell_type": "code",
   "execution_count": 10,
   "id": "e8b8e65b",
   "metadata": {},
   "outputs": [
    {
     "data": {
      "text/plain": [
       "(array([1. , 2. , 3. , 2.5]),\n",
       " array([[ 0.2 ,  0.8 , -0.5 ,  1.  ],\n",
       "        [ 0.5 , -0.91,  0.26, -0.5 ],\n",
       "        [-0.26, -0.27,  0.17,  0.87]]),\n",
       " array([2. , 3. , 0.5]))"
      ]
     },
     "execution_count": 10,
     "metadata": {},
     "output_type": "execute_result"
    }
   ],
   "source": [
    "inputs = np.array([1.0, 2.0, 3.0, 2.5])\n",
    "weights = np.array([[0.2, 0.8, -0.5, 1],\n",
    "          [0.5, -0.91, 0.26, -0.5],\n",
    "          [-0.26, -0.27, 0.17, 0.87]])\n",
    "biases = np.array([2.0, 3.0, 0.5])\n",
    "inputs, weights, biases"
   ]
  },
  {
   "cell_type": "code",
   "execution_count": 11,
   "id": "75fd0d82",
   "metadata": {},
   "outputs": [
    {
     "data": {
      "text/plain": [
       "array([34, 50])"
      ]
     },
     "execution_count": 11,
     "metadata": {},
     "output_type": "execute_result"
    }
   ],
   "source": [
    "mat1 = [[1, 2, 4],\n",
    "       [2, 4, 5]]\n",
    "mat2 = [2, 4, 6]\n",
    "np.dot(mat1, mat2)"
   ]
  },
  {
   "cell_type": "markdown",
   "id": "219cc0fc",
   "metadata": {},
   "source": [
    "**NOTE**: When it comes to dot product \n",
    "```\n",
    "    array[2, 4, 7] \n",
    "    \n",
    "    array[[2],                                                    \n",
    "          [4], \n",
    "          [7]] \n",
    " ```\n",
    " Are same"
   ]
  },
  {
   "cell_type": "markdown",
   "id": "9a385fd4",
   "metadata": {
    "jp-MarkdownHeadingCollapsed": true
   },
   "source": [
    "## A Batch of Data \n",
    "\n",
    "- A Batch is a sample of data that given as a inputs at a time"
   ]
  },
  {
   "cell_type": "code",
   "execution_count": 12,
   "id": "5a30f45b",
   "metadata": {},
   "outputs": [],
   "source": [
    "batch = [[2, 4, 2],\n",
    "        [3, 5, 1],\n",
    "        [5, 8, 9],\n",
    "        [1, 2, 4]]"
   ]
  },
  {
   "cell_type": "markdown",
   "id": "5ea0e506",
   "metadata": {
    "jp-MarkdownHeadingCollapsed": true
   },
   "source": [
    "## Matrix Product"
   ]
  },
  {
   "cell_type": "code",
   "execution_count": 13,
   "id": "8e1e082d",
   "metadata": {},
   "outputs": [
    {
     "data": {
      "text/plain": [
       "array([[ 30,  63,  17],\n",
       "       [ 21,  66,  25],\n",
       "       [ 37, 104,  39]])"
      ]
     },
     "execution_count": 13,
     "metadata": {},
     "output_type": "execute_result"
    }
   ],
   "source": [
    "mat1 = [[2, 4, 5],\n",
    "       [4, 5, 1],\n",
    "       [6, 7, 3]]\n",
    "mat2 = [[3, 9, 6],\n",
    "       [1, 5, 0],\n",
    "       [4, 5, 1]]\n",
    "np.dot(mat1, mat2)"
   ]
  },
  {
   "cell_type": "markdown",
   "id": "dec948ee",
   "metadata": {
    "jp-MarkdownHeadingCollapsed": true
   },
   "source": [
    "## Transposition of the matrix product"
   ]
  },
  {
   "cell_type": "code",
   "execution_count": 14,
   "id": "c6f044e9",
   "metadata": {},
   "outputs": [
    {
     "name": "stdout",
     "output_type": "stream",
     "text": [
      "[[1 3 2]\n",
      " [3 1 5]\n",
      " [5 8 1]] \n",
      "\n",
      "[[1 3 5]\n",
      " [3 1 8]\n",
      " [2 5 1]]\n"
     ]
    }
   ],
   "source": [
    "mat = np.array([\n",
    "       [1, 3, 2],\n",
    "       [3, 1, 5],\n",
    "       [5, 8, 1]\n",
    "      ])\n",
    "print(mat, \"\\n\")\n",
    "print(np.transpose(mat))"
   ]
  },
  {
   "cell_type": "code",
   "execution_count": 15,
   "id": "2c8a122b",
   "metadata": {},
   "outputs": [
    {
     "name": "stdout",
     "output_type": "stream",
     "text": [
      "[[1 2 3]\n",
      " [4 2 9]]\n",
      "------------------\n",
      "[[[1 2 3]\n",
      "  [4 2 9]]] 3 2\n",
      "------------------\n",
      "[[[1 2 3]]\n",
      "\n",
      " [[4 2 9]]] 3 2\n"
     ]
    }
   ],
   "source": [
    "# array expense\n",
    "a = np.array([[1, 2, 3], [4, 2, 9]])\n",
    "a2 = np.array([a])\n",
    "a3 = np.expand_dims(np.array(a), axis=1)\n",
    "print(a)\n",
    "print(\"------------------\")\n",
    "print(a2, a2.ndim, a.ndim)\n",
    "print(\"------------------\")\n",
    "print(a3, a3.ndim, a.ndim)"
   ]
  },
  {
   "cell_type": "code",
   "execution_count": 16,
   "id": "98c91ab5",
   "metadata": {},
   "outputs": [
    {
     "name": "stdout",
     "output_type": "stream",
     "text": [
      "[[2 1 4]\n",
      " [5 1 7]\n",
      " [6 2 3]] 2\n",
      "------------\n",
      "[[[2 1 4]]\n",
      "\n",
      " [[5 1 7]]\n",
      "\n",
      " [[6 2 3]]] 3\n"
     ]
    }
   ],
   "source": [
    "mat = np.array([[2, 1, 4], [5, 1, 7], [6, 2, 3]])\n",
    "print(mat, mat.ndim)\n",
    "print(\"------------\")\n",
    "print(np.expand_dims(mat, axis=1), np.expand_dims(mat, axis=1).ndim)"
   ]
  },
  {
   "cell_type": "code",
   "execution_count": 17,
   "id": "e43d7fac",
   "metadata": {},
   "outputs": [
    {
     "name": "stdout",
     "output_type": "stream",
     "text": [
      "[[1 2 3]]\n",
      "[[2]\n",
      " [3]\n",
      " [4]]\n",
      "[[ 2  4  6]\n",
      " [ 3  6  9]\n",
      " [ 4  8 12]] 2 2\n"
     ]
    }
   ],
   "source": [
    "# transpose\n",
    "a = [1, 2, 3]\n",
    "b = [2, 3, 4]\n",
    "\n",
    "a = np.array([a])\n",
    "b = np.array([b]).T\n",
    "print(a)\n",
    "print(b)\n",
    "print(np.dot(b, a), a.ndim, b.ndim)"
   ]
  },
  {
   "cell_type": "markdown",
   "id": "c7ec3fc3",
   "metadata": {
    "jp-MarkdownHeadingCollapsed": true
   },
   "source": [
    "## A Layer of Neurons & Batch of Data with NumPy"
   ]
  },
  {
   "cell_type": "code",
   "execution_count": 18,
   "id": "a6f1f238",
   "metadata": {},
   "outputs": [
    {
     "name": "stdout",
     "output_type": "stream",
     "text": [
      "[[ 4.8    1.21   2.385]\n",
      " [ 8.9   -1.81   0.2  ]\n",
      " [ 1.41   1.051  0.026]]\n"
     ]
    }
   ],
   "source": [
    "inputs = [[1.0, 2.0, 3.0, 2.5],\n",
    "         [2.0, 5.0, -1.0, 2.0],\n",
    "         [-1.5, 2.7, 3.3, -0.8]]\n",
    "\n",
    "weights = [[0.2, 0.8, -0.5, 1.0],\n",
    "          [0.5, -0.91, 0.26, -0.5],\n",
    "          [-0.26, -0.27, 0.17, 0.87]]\n",
    "\n",
    "biases = [2.0, 3.0, 0.5]\n",
    "\n",
    "outputs = np.dot(inputs, np.array(weights).T) + biases\n",
    "\n",
    "print(outputs)"
   ]
  },
  {
   "cell_type": "markdown",
   "id": "ecd75e02",
   "metadata": {
    "jp-MarkdownHeadingCollapsed": true
   },
   "source": [
    "## Adding Layers\n",
    "\n",
    "- Neural network with two layers"
   ]
  },
  {
   "cell_type": "code",
   "execution_count": 19,
   "id": "db15950f",
   "metadata": {},
   "outputs": [
    {
     "name": "stdout",
     "output_type": "stream",
     "text": [
      "Layer 1: output\n",
      " [[ 4.8    1.21   2.385]\n",
      " [ 8.9   -1.81   0.2  ]\n",
      " [ 1.41   1.051  0.026]]\n",
      "Layer 2: output\n",
      " [[ 0.5031  -1.04185 -2.03875]\n",
      " [ 0.2434  -2.7332  -5.7633 ]\n",
      " [-0.99314  1.41254 -0.35655]]\n"
     ]
    }
   ],
   "source": [
    "import numpy as np\n",
    "\n",
    "inputs = [[1, 2, 3, 2.5],\n",
    "         [2., 5., -1., 2.],\n",
    "         [-1.5, 2.7, 3.3, -0.8]]\n",
    "# Layer 1: weights & biases\n",
    "weights = [[0.2, 0.8, -0.5, 1],\n",
    "          [0.5, -0.91, 0.26, -0.5],\n",
    "          [-0.26, -0.27, 0.17, 0.87]]\n",
    "biases = [2, 3, 0.5]\n",
    "\n",
    "# Layer 2: weights & biases\n",
    "weights2 = [[0.1, -0.14, 0.5],\n",
    "          [-0.5, 0.12, -0.33],\n",
    "          [-0.44, 0.73, -0.13]]\n",
    "\n",
    "biases2 = [-1, 2, -0.5]\n",
    "\n",
    "# Layer 1: Calculation\n",
    "layer1 = np.dot(inputs, np.array(weights).T) + biases\n",
    "\n",
    "# Layer 2: Calculation\n",
    "layer2 = np.dot(layer1, np.array(weights2).T) + biases2\n",
    "\n",
    "print(\"Layer 1: output\\n\",layer1)\n",
    "print(\"Layer 2: output\\n\",layer2)\n"
   ]
  },
  {
   "cell_type": "markdown",
   "id": "2cab00fa-fc33-4ab2-8e53-68b3053c977b",
   "metadata": {
    "jp-MarkdownHeadingCollapsed": true
   },
   "source": [
    "## Training Data"
   ]
  },
  {
   "cell_type": "code",
   "execution_count": 21,
   "id": "017110fe-3162-402c-a7bb-3be31fb90c3d",
   "metadata": {},
   "outputs": [
    {
     "data": {
      "text/html": [
       "<div>\n",
       "<style scoped>\n",
       "    .dataframe tbody tr th:only-of-type {\n",
       "        vertical-align: middle;\n",
       "    }\n",
       "\n",
       "    .dataframe tbody tr th {\n",
       "        vertical-align: top;\n",
       "    }\n",
       "\n",
       "    .dataframe thead th {\n",
       "        text-align: right;\n",
       "    }\n",
       "</style>\n",
       "<table border=\"1\" class=\"dataframe\">\n",
       "  <thead>\n",
       "    <tr style=\"text-align: right;\">\n",
       "      <th></th>\n",
       "      <th>age</th>\n",
       "      <th>sex</th>\n",
       "      <th>cp</th>\n",
       "      <th>trestbps</th>\n",
       "      <th>chol</th>\n",
       "      <th>fbs</th>\n",
       "      <th>restecg</th>\n",
       "      <th>thalach</th>\n",
       "      <th>exang</th>\n",
       "      <th>oldpeak</th>\n",
       "      <th>slope</th>\n",
       "      <th>ca</th>\n",
       "      <th>thal</th>\n",
       "      <th>target</th>\n",
       "    </tr>\n",
       "  </thead>\n",
       "  <tbody>\n",
       "    <tr>\n",
       "      <th>0</th>\n",
       "      <td>63</td>\n",
       "      <td>1</td>\n",
       "      <td>3</td>\n",
       "      <td>145</td>\n",
       "      <td>233</td>\n",
       "      <td>1</td>\n",
       "      <td>0</td>\n",
       "      <td>150</td>\n",
       "      <td>0</td>\n",
       "      <td>2.3</td>\n",
       "      <td>0</td>\n",
       "      <td>0</td>\n",
       "      <td>1</td>\n",
       "      <td>1</td>\n",
       "    </tr>\n",
       "    <tr>\n",
       "      <th>1</th>\n",
       "      <td>37</td>\n",
       "      <td>1</td>\n",
       "      <td>2</td>\n",
       "      <td>130</td>\n",
       "      <td>250</td>\n",
       "      <td>0</td>\n",
       "      <td>1</td>\n",
       "      <td>187</td>\n",
       "      <td>0</td>\n",
       "      <td>3.5</td>\n",
       "      <td>0</td>\n",
       "      <td>0</td>\n",
       "      <td>2</td>\n",
       "      <td>1</td>\n",
       "    </tr>\n",
       "    <tr>\n",
       "      <th>2</th>\n",
       "      <td>41</td>\n",
       "      <td>0</td>\n",
       "      <td>1</td>\n",
       "      <td>130</td>\n",
       "      <td>204</td>\n",
       "      <td>0</td>\n",
       "      <td>0</td>\n",
       "      <td>172</td>\n",
       "      <td>0</td>\n",
       "      <td>1.4</td>\n",
       "      <td>2</td>\n",
       "      <td>0</td>\n",
       "      <td>2</td>\n",
       "      <td>1</td>\n",
       "    </tr>\n",
       "    <tr>\n",
       "      <th>3</th>\n",
       "      <td>56</td>\n",
       "      <td>1</td>\n",
       "      <td>1</td>\n",
       "      <td>120</td>\n",
       "      <td>236</td>\n",
       "      <td>0</td>\n",
       "      <td>1</td>\n",
       "      <td>178</td>\n",
       "      <td>0</td>\n",
       "      <td>0.8</td>\n",
       "      <td>2</td>\n",
       "      <td>0</td>\n",
       "      <td>2</td>\n",
       "      <td>1</td>\n",
       "    </tr>\n",
       "    <tr>\n",
       "      <th>4</th>\n",
       "      <td>57</td>\n",
       "      <td>0</td>\n",
       "      <td>0</td>\n",
       "      <td>120</td>\n",
       "      <td>354</td>\n",
       "      <td>0</td>\n",
       "      <td>1</td>\n",
       "      <td>163</td>\n",
       "      <td>1</td>\n",
       "      <td>0.6</td>\n",
       "      <td>2</td>\n",
       "      <td>0</td>\n",
       "      <td>2</td>\n",
       "      <td>1</td>\n",
       "    </tr>\n",
       "  </tbody>\n",
       "</table>\n",
       "</div>"
      ],
      "text/plain": [
       "   age  sex  cp  trestbps  chol  fbs  restecg  thalach  exang  oldpeak  slope  \\\n",
       "0   63    1   3       145   233    1        0      150      0      2.3      0   \n",
       "1   37    1   2       130   250    0        1      187      0      3.5      0   \n",
       "2   41    0   1       130   204    0        0      172      0      1.4      2   \n",
       "3   56    1   1       120   236    0        1      178      0      0.8      2   \n",
       "4   57    0   0       120   354    0        1      163      1      0.6      2   \n",
       "\n",
       "   ca  thal  target  \n",
       "0   0     1       1  \n",
       "1   0     2       1  \n",
       "2   0     2       1  \n",
       "3   0     2       1  \n",
       "4   0     2       1  "
      ]
     },
     "execution_count": 21,
     "metadata": {},
     "output_type": "execute_result"
    }
   ],
   "source": [
    "import numpy as np\n",
    "\n",
    "import pandas as pd\n",
    "\n",
    "\n",
    "df = pd.read_csv(\"../data/heart-disease.csv\")\n",
    "\n",
    "df.head()\n"
   ]
  },
  {
   "cell_type": "code",
   "execution_count": 22,
   "id": "1bf0968f",
   "metadata": {},
   "outputs": [
    {
     "data": {
      "text/plain": [
       "4242"
      ]
     },
     "execution_count": 22,
     "metadata": {},
     "output_type": "execute_result"
    }
   ],
   "source": [
    "df.size"
   ]
  },
  {
   "cell_type": "code",
   "execution_count": 23,
   "id": "f42d5f34",
   "metadata": {},
   "outputs": [
    {
     "data": {
      "text/plain": [
       "(array([[63.,  1.,  3., ...,  0.,  0.,  1.],\n",
       "        [37.,  1.,  2., ...,  0.,  0.,  2.],\n",
       "        [41.,  0.,  1., ...,  2.,  0.,  2.],\n",
       "        ...,\n",
       "        [68.,  1.,  0., ...,  1.,  2.,  3.],\n",
       "        [57.,  1.,  0., ...,  1.,  1.,  3.],\n",
       "        [57.,  0.,  1., ...,  1.,  1.,  2.]]),\n",
       " array([1, 1, 1, 1, 1, 1, 1, 1, 1, 1, 1, 1, 1, 1, 1, 1, 1, 1, 1, 1, 1, 1,\n",
       "        1, 1, 1, 1, 1, 1, 1, 1, 1, 1, 1, 1, 1, 1, 1, 1, 1, 1, 1, 1, 1, 1,\n",
       "        1, 1, 1, 1, 1, 1, 1, 1, 1, 1, 1, 1, 1, 1, 1, 1, 1, 1, 1, 1, 1, 1,\n",
       "        1, 1, 1, 1, 1, 1, 1, 1, 1, 1, 1, 1, 1, 1, 1, 1, 1, 1, 1, 1, 1, 1,\n",
       "        1, 1, 1, 1, 1, 1, 1, 1, 1, 1, 1, 1, 1, 1, 1, 1, 1, 1, 1, 1, 1, 1,\n",
       "        1, 1, 1, 1, 1, 1, 1, 1, 1, 1, 1, 1, 1, 1, 1, 1, 1, 1, 1, 1, 1, 1,\n",
       "        1, 1, 1, 1, 1, 1, 1, 1, 1, 1, 1, 1, 1, 1, 1, 1, 1, 1, 1, 1, 1, 1,\n",
       "        1, 1, 1, 1, 1, 1, 1, 1, 1, 1, 1, 0, 0, 0, 0, 0, 0, 0, 0, 0, 0, 0,\n",
       "        0, 0, 0, 0, 0, 0, 0, 0, 0, 0, 0, 0, 0, 0, 0, 0, 0, 0, 0, 0, 0, 0,\n",
       "        0, 0, 0, 0, 0, 0, 0, 0, 0, 0, 0, 0, 0, 0, 0, 0, 0, 0, 0, 0, 0, 0,\n",
       "        0, 0, 0, 0, 0, 0, 0, 0, 0, 0, 0, 0, 0, 0, 0, 0, 0, 0, 0, 0, 0, 0,\n",
       "        0, 0, 0, 0, 0, 0, 0, 0, 0, 0, 0, 0, 0, 0, 0, 0, 0, 0, 0, 0, 0, 0,\n",
       "        0, 0, 0, 0, 0, 0, 0, 0, 0, 0, 0, 0, 0, 0, 0, 0, 0, 0, 0, 0, 0, 0,\n",
       "        0, 0, 0, 0, 0, 0, 0, 0, 0, 0, 0, 0, 0, 0, 0, 0, 0]),\n",
       " 2)"
      ]
     },
     "execution_count": 23,
     "metadata": {},
     "output_type": "execute_result"
    }
   ],
   "source": [
    "features = df.drop(\"target\", axis=1).to_numpy()\n",
    "\n",
    "target = df[\"target\"].to_numpy()\n",
    "features, target, features.ndim"
   ]
  },
  {
   "cell_type": "code",
   "execution_count": 24,
   "id": "0477290e",
   "metadata": {},
   "outputs": [
    {
     "data": {
      "text/plain": [
       "(array([[6.30e+01, 1.00e+00, 3.00e+00, 1.45e+02, 2.33e+02, 1.00e+00,\n",
       "         0.00e+00, 1.50e+02, 0.00e+00, 2.30e+00, 0.00e+00, 0.00e+00,\n",
       "         1.00e+00],\n",
       "        [3.70e+01, 1.00e+00, 2.00e+00, 1.30e+02, 2.50e+02, 0.00e+00,\n",
       "         1.00e+00, 1.87e+02, 0.00e+00, 3.50e+00, 0.00e+00, 0.00e+00,\n",
       "         2.00e+00],\n",
       "        [4.10e+01, 0.00e+00, 1.00e+00, 1.30e+02, 2.04e+02, 0.00e+00,\n",
       "         0.00e+00, 1.72e+02, 0.00e+00, 1.40e+00, 2.00e+00, 0.00e+00,\n",
       "         2.00e+00],\n",
       "        [5.60e+01, 1.00e+00, 1.00e+00, 1.20e+02, 2.36e+02, 0.00e+00,\n",
       "         1.00e+00, 1.78e+02, 0.00e+00, 8.00e-01, 2.00e+00, 0.00e+00,\n",
       "         2.00e+00],\n",
       "        [5.70e+01, 0.00e+00, 0.00e+00, 1.20e+02, 3.54e+02, 0.00e+00,\n",
       "         1.00e+00, 1.63e+02, 1.00e+00, 6.00e-01, 2.00e+00, 0.00e+00,\n",
       "         2.00e+00],\n",
       "        [5.70e+01, 1.00e+00, 0.00e+00, 1.40e+02, 1.92e+02, 0.00e+00,\n",
       "         1.00e+00, 1.48e+02, 0.00e+00, 4.00e-01, 1.00e+00, 0.00e+00,\n",
       "         1.00e+00],\n",
       "        [5.60e+01, 0.00e+00, 1.00e+00, 1.40e+02, 2.94e+02, 0.00e+00,\n",
       "         0.00e+00, 1.53e+02, 0.00e+00, 1.30e+00, 1.00e+00, 0.00e+00,\n",
       "         2.00e+00],\n",
       "        [4.40e+01, 1.00e+00, 1.00e+00, 1.20e+02, 2.63e+02, 0.00e+00,\n",
       "         1.00e+00, 1.73e+02, 0.00e+00, 0.00e+00, 2.00e+00, 0.00e+00,\n",
       "         3.00e+00],\n",
       "        [5.20e+01, 1.00e+00, 2.00e+00, 1.72e+02, 1.99e+02, 1.00e+00,\n",
       "         1.00e+00, 1.62e+02, 0.00e+00, 5.00e-01, 2.00e+00, 0.00e+00,\n",
       "         3.00e+00],\n",
       "        [5.70e+01, 1.00e+00, 2.00e+00, 1.50e+02, 1.68e+02, 0.00e+00,\n",
       "         1.00e+00, 1.74e+02, 0.00e+00, 1.60e+00, 2.00e+00, 0.00e+00,\n",
       "         2.00e+00],\n",
       "        [5.40e+01, 1.00e+00, 0.00e+00, 1.40e+02, 2.39e+02, 0.00e+00,\n",
       "         1.00e+00, 1.60e+02, 0.00e+00, 1.20e+00, 2.00e+00, 0.00e+00,\n",
       "         2.00e+00],\n",
       "        [4.80e+01, 0.00e+00, 2.00e+00, 1.30e+02, 2.75e+02, 0.00e+00,\n",
       "         1.00e+00, 1.39e+02, 0.00e+00, 2.00e-01, 2.00e+00, 0.00e+00,\n",
       "         2.00e+00],\n",
       "        [4.90e+01, 1.00e+00, 1.00e+00, 1.30e+02, 2.66e+02, 0.00e+00,\n",
       "         1.00e+00, 1.71e+02, 0.00e+00, 6.00e-01, 2.00e+00, 0.00e+00,\n",
       "         2.00e+00],\n",
       "        [6.40e+01, 1.00e+00, 3.00e+00, 1.10e+02, 2.11e+02, 0.00e+00,\n",
       "         0.00e+00, 1.44e+02, 1.00e+00, 1.80e+00, 1.00e+00, 0.00e+00,\n",
       "         2.00e+00],\n",
       "        [5.80e+01, 0.00e+00, 3.00e+00, 1.50e+02, 2.83e+02, 1.00e+00,\n",
       "         0.00e+00, 1.62e+02, 0.00e+00, 1.00e+00, 2.00e+00, 0.00e+00,\n",
       "         2.00e+00]]),\n",
       " 15,\n",
       " array([1, 1, 1, 1, 1, 1, 1, 1, 1, 1, 1, 1, 1, 1, 1]),\n",
       " 15)"
      ]
     },
     "execution_count": 24,
     "metadata": {},
     "output_type": "execute_result"
    }
   ],
   "source": [
    "features = features[:15]\n",
    "target = target[:15]\n",
    "features, len(features), target, target.size"
   ]
  },
  {
   "cell_type": "markdown",
   "id": "e745af3e",
   "metadata": {
    "jp-MarkdownHeadingCollapsed": true
   },
   "source": [
    "## Dense Layer Class\n",
    "\n",
    "- reuseable dense layer class"
   ]
  },
  {
   "cell_type": "code",
   "execution_count": 25,
   "id": "acf3109a",
   "metadata": {},
   "outputs": [],
   "source": [
    "class Dense_Layer:\n",
    "    \n",
    "    def __init__(self, n_inputs, n_neurons):\n",
    "        # initialize weights and biases\n",
    "        # random weights and biases initialization (Note: we can some use rules to initialize)  \n",
    "        self.weights = 0.01 * np.random.randn(n_inputs, n_neurons)\n",
    "        self.biases = np.zeros((1, n_neurons))\n",
    "        \n",
    "    \n",
    "    # Forward pass\n",
    "    def forward(self, inputs):\n",
    "        # Calculate output values from inputs, weights and biases\n",
    "        self.output = np.dot(inputs, self.weights) + self.biases\n",
    "        \n",
    "\n"
   ]
  },
  {
   "cell_type": "markdown",
   "id": "284fd369",
   "metadata": {
    "jp-MarkdownHeadingCollapsed": true
   },
   "source": [
    "## Creating Dense Layer"
   ]
  },
  {
   "cell_type": "code",
   "execution_count": 26,
   "id": "37fceeec",
   "metadata": {},
   "outputs": [
    {
     "name": "stdout",
     "output_type": "stream",
     "text": [
      "[[ 2.49385307  2.84970217  2.64040495 -0.63802628  3.44587641]\n",
      " [ 2.98958946  2.92700554  2.78004298 -1.00111421  4.55155905]\n",
      " [ 2.79289137  2.39132721  2.09848383 -1.15368968  4.08679285]\n",
      " [ 2.97058467  2.80999185  3.00724337 -0.93538107  4.32657573]\n",
      " [ 2.76931191  4.29171826  4.77151116  0.19863885  3.94346817]\n",
      " [ 2.43426859  2.31380732  1.99711035 -0.92253681  3.41775928]\n",
      " [ 2.5505076   3.55998384  3.51444794 -0.19253845  3.5587876 ]\n",
      " [ 2.861114    3.13103159  3.18062058 -0.66657673  4.19930029]\n",
      " [ 2.62446594  2.40149616  1.51021129 -1.17433783  3.64154009]\n",
      " [ 2.84244082  1.98040129  1.53179854 -1.50543657  4.05341614]\n",
      " [ 2.6461568   2.86054425  2.6591944  -0.72195955  3.74727788]\n",
      " [ 2.32639829  3.32573232  3.21807189 -0.13004785  3.22706896]\n",
      " [ 2.83206965  3.17330212  3.16202705 -0.63935409  4.09576295]\n",
      " [ 2.45560288  2.57371455  2.86448892 -0.61077507  3.40959134]\n",
      " [ 2.71335835  3.44052777  3.23156988 -0.44171922  3.74068933]]\n"
     ]
    }
   ],
   "source": [
    "# Create First desne layer: \n",
    "dense1 = Dense_Layer(13, 5)\n",
    "\n",
    "# Forward pass\n",
    "dense1.forward(features)\n",
    "\n",
    "print(dense1.output)"
   ]
  },
  {
   "cell_type": "markdown",
   "id": "e5600c50",
   "metadata": {},
   "source": [
    "## Activation Function\n",
    "\n",
    "### The Step Activation Function\n",
    "\n",
    "The purpose of this function serves is to mimic a neuron \"firing\" or \"not firing\" based on input information.\n",
    "\n",
    "In a single neuron, if the weight.inputs + bias results in a value greater than 0, the neuron will fire and output a 0; otherwise, it will output a 0.\n",
    "\n",
    "This activation function has been used historically in hidden layers, but nowadays, it is rarely a choice.\n",
    "\n",
    "```\n",
    "y = {\n",
    "      0 if x <= 0\n",
    "      1 if x >  0\n",
    "    }\n",
    "```"
   ]
  },
  {
   "cell_type": "markdown",
   "id": "c3f0f163",
   "metadata": {},
   "source": [
    "### The Linear Activation Function\n",
    "\n",
    "A Linear function is simply the equation of a line. it will appear as a straight line when graphed, where `y=x` and the output value equals the input.<br />\n",
    "\n",
    "This activation  function is usually applied to the last layer's output in the case of a regression modal.\n"
   ]
  },
  {
   "cell_type": "markdown",
   "id": "fbf15df0",
   "metadata": {},
   "source": [
    "### The Sigmoid Activation Function\n",
    "\n",
    "```\n",
    "y = 1/(1+e^-x)\n",
    "```\n",
    "This activation function is more granular for neural network. <br />\n",
    "\n",
    "This function returns a value in the range of 0 for negative infinity, through 0.5 for the input of 0, and to 1 for positive infinity.<br />\n",
    "\n",
    "The **Sigmoid** function is replaced by **ReLU** function"
   ]
  },
  {
   "cell_type": "markdown",
   "id": "615ef9fc",
   "metadata": {},
   "source": [
    "### The Rectified Linear Activation Function\n",
    "\n",
    "```\n",
    "y = {\n",
    "    x x >  0\n",
    "    0 x <= 0\n",
    "}\n",
    "```\n",
    "The **ReLU** finction is simpler than the sigmoid. It's quite literally `y=x`.<br />\n",
    "\n",
    "If `x` is less than or equal to 0, then `y` is 0 otherwise, `y` is equal to `x`. <br />\n",
    "\n",
    "This function simple but most widely used activation function. <br />\n",
    "\n",
    "The ReLU Activation function is extremely close to being a linear activation function while remaining nonlinear, due to that bend after 0.\n"
   ]
  },
  {
   "cell_type": "markdown",
   "id": "c5b25fb5",
   "metadata": {},
   "source": [
    "### Linear Activation in the Hidden Layers\n",
    "\n",
    "If we use linear function in a neural network, No matter what we do, with the neuron's weights and biases, \n",
    "\n",
    "the output of this neuron will be perfectly linear to `y=x` of the activation function.\n",
    "\n",
    "This linear nature will continue throughout the network, no matter what we do, however many layers we have, this \n",
    "\n",
    "network can only depict linear relationship if we use linear activation functions. It should be fairly obvious that \n",
    "\n",
    "this will be case as each neuron in each layer acts linearly, so the entire network is linear function as well."
   ]
  },
  {
   "cell_type": "markdown",
   "id": "f7e7fa59",
   "metadata": {
    "jp-MarkdownHeadingCollapsed": true
   },
   "source": [
    "### ReLU Activation in a pair of Neurons\n",
    "\n",
    "ReLu is a barely nonlinear activation function\n"
   ]
  },
  {
   "cell_type": "code",
   "execution_count": 248,
   "id": "08c1da54",
   "metadata": {},
   "outputs": [
    {
     "name": "stdout",
     "output_type": "stream",
     "text": [
      "[ 0.00000000e+00  4.33883739e-01  7.81831482e-01  9.74927912e-01\n",
      "  9.74927912e-01  7.81831482e-01  4.33883739e-01  1.22464680e-16\n",
      " -4.33883739e-01 -7.81831482e-01 -9.74927912e-01 -9.74927912e-01\n",
      " -7.81831482e-01 -4.33883739e-01 -2.44929360e-16] 15\n",
      "[0.01       0.41218955 0.79091574 0.98746396 0.97994233 0.77728204\n",
      " 0.44731373 0.01       0.         0.         0.         0.10501442\n",
      " 0.         0.         0.        ] 15\n"
     ]
    },
    {
     "data": {
      "image/png": "[encoded data removed]",
      "text/plain": [
       "<Figure size 640x480 with 1 Axes>"
      ]
     },
     "metadata": {},
     "output_type": "display_data"
    }
   ],
   "source": [
    "# Manually fitting sin wave function\n",
    "import numpy as np\n",
    "import matplotlib.pyplot as plt\n",
    "\n",
    "sample = np.linspace(0, 1, 15)\n",
    "sin_wave = np.array(np.sin(2*np.pi*sample))\n",
    "\n",
    "class Layer_with_activation:\n",
    "\n",
    "    def __init__(self, weights, biases):\n",
    "        self.weights = weights\n",
    "        self.biases = biases\n",
    "\n",
    "    def forward(self, inputs):\n",
    "        self.output = np.linspace(0, 1, 15)\n",
    "        for i in range(len(inputs)):\n",
    "            self.output[i] = inputs[i] * self.weights[i]\n",
    "        self.output = self.output + self.biases\n",
    "        self.relu()\n",
    "\n",
    "    def relu(self):\n",
    "        for i in range(len(self.output)):\n",
    "            if self.output[i] <= 0:\n",
    "                self.output[i] = 0\n",
    "\n",
    "\n",
    "weights = np.array([-0.1, 0.95, 0.5, 0.5, 0.8, 0.7, 0.57, 1, 1, 0.5, 0.7, 0.2, 2, 0.34, 0.1])\n",
    "biases = np.array([0.01, 0, 0.4, 0.5, 0.2, 0.23, 0.2, 0.01, 0.3, 0.01, 0, 0.3 ,0.1, -4, 0])\n",
    "\n",
    "layer = Layer_with_activation(weights, biases)\n",
    "layer.forward(sin_wave)\n",
    "\n",
    "plt.plot(sin_wave, color=\"green\")\n",
    "plt.plot(layer.output, color=\"red\")\n",
    "plt.scatter(np.arange(0, 15, 1), layer.output)\n",
    "print(sin_wave, len(sin_wave))\n",
    "print(layer.output, len(layer.output))\n"
   ]
  },
  {
   "cell_type": "markdown",
   "id": "acf13a2a-7995-45b2-98fe-e133b1ba22cb",
   "metadata": {},
   "source": [
    "*NOTE: This sine wave cannot be fit because it contains negative values*"
   ]
  },
  {
   "cell_type": "markdown",
   "id": "bddcc1d2-f7f3-4bed-974c-083346de1a72",
   "metadata": {
    "jp-MarkdownHeadingCollapsed": true
   },
   "source": [
    "### ReLU Activation Function Code"
   ]
  },
  {
   "cell_type": "code",
   "execution_count": 253,
   "id": "4de0beb1-b45e-4e0d-a84e-615f022a6020",
   "metadata": {},
   "outputs": [
    {
     "name": "stdout",
     "output_type": "stream",
     "text": [
      "[0, 2, 0, 3.3, 0, 1.1, 2.2, 0]\n"
     ]
    }
   ],
   "source": [
    "# Procedural code\n",
    "inputs = [0, 2, -1, 3.3, -2.7, 1.1, 2.2, -100]\n",
    "\n",
    "for i in range(len(inputs)):\n",
    "    if inputs[i] <= 0:\n",
    "        inputs[i] = 0\n",
    "print(inputs)\n",
    "        "
   ]
  },
  {
   "cell_type": "code",
   "execution_count": 254,
   "id": "53b87563-15f7-464a-a826-e7a532415822",
   "metadata": {},
   "outputs": [
    {
     "name": "stdout",
     "output_type": "stream",
     "text": [
      "[0, 2, 0, 3.3, 0, 1.1, 2.2, 0]\n"
     ]
    }
   ],
   "source": [
    "# Procedural code: 2\n",
    "inputs = [0, 2, -1, 3.3, -2.7, 1.1, 2.2, -100]\n",
    "\n",
    "outputs = []\n",
    "for i in inputs:\n",
    "    outputs.append(max(0, i))\n",
    "print(outputs)"
   ]
  },
  {
   "cell_type": "markdown",
   "id": "36a9098d-f1fc-47d0-bbd1-86cab22b25fc",
   "metadata": {},
   "source": [
    "Using numpy"
   ]
  },
  {
   "cell_type": "code",
   "execution_count": 255,
   "id": "127a3675-24d7-40cf-897e-53057021d692",
   "metadata": {},
   "outputs": [
    {
     "data": {
      "text/plain": [
       "array([0. , 2. , 0. , 3.3, 0. , 1.1, 2.2, 0. ])"
      ]
     },
     "execution_count": 255,
     "metadata": {},
     "output_type": "execute_result"
    }
   ],
   "source": [
    "import numpy as np\n",
    "\n",
    "inputs = [0, 2, -1, 3.3, -2.7, 1.1, 2.2, -100]\n",
    "outputs = np.maximum(0, inputs)\n",
    "outputs"
   ]
  },
  {
   "cell_type": "markdown",
   "id": "cce74a66-5fa8-423d-a03e-0b91cef7d449",
   "metadata": {
    "jp-MarkdownHeadingCollapsed": true
   },
   "source": [
    "### ReLU Activation class"
   ]
  },
  {
   "cell_type": "code",
   "execution_count": 256,
   "id": "0be7f14a-5bd4-4d77-bdf4-324132091172",
   "metadata": {},
   "outputs": [],
   "source": [
    "# ReLU Activation\n",
    "class Activation_ReLU:\n",
    "\n",
    "    # Forward pass\n",
    "    def forward(self, inputs):\n",
    "        self.output = np.maximum(0, inputs)"
   ]
  },
  {
   "cell_type": "markdown",
   "id": "bfe0c3cd-ecfd-4c5b-b171-ac5e82d4c7af",
   "metadata": {},
   "source": [
    "Add activation to heart attack "
   ]
  },
  {
   "cell_type": "code",
   "execution_count": 257,
   "id": "57f4dc5e-5de0-4c2d-a22c-f1e83b933f29",
   "metadata": {},
   "outputs": [
    {
     "name": "stdout",
     "output_type": "stream",
     "text": [
      "[[-5.09215051  2.49166629 -3.89618915 -1.57280543 -2.2188344 ]\n",
      " [-5.56740377  2.98901089 -4.00988357 -1.87017525 -2.04710675]\n",
      " [-4.99253524  2.46666656 -3.35809164 -1.49346615 -2.07219822]\n",
      " [-5.05868749  2.62029886 -3.83453752 -1.74552542 -2.10076016]\n",
      " [-5.99041104  3.51777124 -5.66863711 -2.27375229 -2.03356991]\n",
      " [-4.64819677  2.10285953 -3.26545247 -1.25957293 -2.13440966]\n",
      " [-5.6401544   3.02343551 -4.82636247 -1.87164881 -2.15497309]\n",
      " [-5.36962856  2.91046062 -4.23840319 -1.81839281 -1.97121224]\n",
      " [-5.39022164  2.36550777 -3.43860381 -1.20300063 -2.37815604]\n",
      " [-4.83285756  2.09937657 -2.8823962  -1.24668602 -2.32156275]\n",
      " [-5.20275333  2.60403601 -3.9639437  -1.55964113 -2.15699563]\n",
      " [-5.29943513  2.83603569 -4.48563584 -1.6984974  -1.94620502]\n",
      " [-5.47727264  2.90723222 -4.30976396 -1.80864377 -2.09086297]\n",
      " [-4.308896    2.23473707 -3.48430013 -1.53946951 -1.91769262]\n",
      " [-5.80722487  3.00099802 -4.65590538 -1.82418313 -2.29349108]]\n",
      "[[0.         2.49166629 0.         0.         0.        ]\n",
      " [0.         2.98901089 0.         0.         0.        ]\n",
      " [0.         2.46666656 0.         0.         0.        ]\n",
      " [0.         2.62029886 0.         0.         0.        ]\n",
      " [0.         3.51777124 0.         0.         0.        ]\n",
      " [0.         2.10285953 0.         0.         0.        ]\n",
      " [0.         3.02343551 0.         0.         0.        ]\n",
      " [0.         2.91046062 0.         0.         0.        ]\n",
      " [0.         2.36550777 0.         0.         0.        ]\n",
      " [0.         2.09937657 0.         0.         0.        ]\n",
      " [0.         2.60403601 0.         0.         0.        ]\n",
      " [0.         2.83603569 0.         0.         0.        ]\n",
      " [0.         2.90723222 0.         0.         0.        ]\n",
      " [0.         2.23473707 0.         0.         0.        ]\n",
      " [0.         3.00099802 0.         0.         0.        ]]\n"
     ]
    }
   ],
   "source": [
    "# Create a dense layer\n",
    "dense1 = Dense_Layer(13, 5)\n",
    "\n",
    "# Create relu activation function\n",
    "relu = Activation_ReLU()\n",
    "\n",
    "# Make a forward pass of our training data through this layer\n",
    "dense1.forward(features)\n",
    "\n",
    "# Forward pass through activation func\n",
    "relu.forward(dense1.output)\n",
    "\n",
    "print(dense1.output)\n",
    "print(relu.output)"
   ]
  },
  {
   "cell_type": "markdown",
   "id": "7dcba0b5-9efa-46e1-bd7b-a0cc680ca521",
   "metadata": {},
   "source": [
    "### The Softmax Activation Function\n",
    "\n",
    "```\n",
    "S<i,j> = (e^z<i,j>)/sum(e^z<i,l>) [daunting equation :)]\n",
    "```\n",
    "Lets break down the equation into simple pieces and express it in python code.\n"
   ]
  },
  {
   "cell_type": "code",
   "execution_count": 261,
   "id": "9a8818c2-2b78-4313-ab62-bedf670dbb2d",
   "metadata": {},
   "outputs": [
    {
     "name": "stdout",
     "output_type": "stream",
     "text": [
      "[121.51041751893969, 3.3534846525504487, 10.85906266492961]\n"
     ]
    }
   ],
   "source": [
    "# Value of previous output\n",
    "layer_outputs = [4.8, 1.21, 2.385]\n",
    "\n",
    "# e - Euler's number mathematical constant, we use  \n",
    "E = 2.71828182846 # also math.e\n",
    "\n",
    "# For each value in a vector, calculate the exponential value\n",
    "exp_values = []\n",
    "\n",
    "for out in layer_outputs:\n",
    "    exp_values.append(E**out)\n",
    "print(exp_values)"
   ]
  },
  {
   "cell_type": "code",
   "execution_count": 273,
   "id": "0b18207d-f87c-4c9d-b5fe-771252cc8720",
   "metadata": {},
   "outputs": [
    {
     "name": "stdout",
     "output_type": "stream",
     "text": [
      "10686474581524.445 1.0\n"
     ]
    },
    {
     "data": {
      "image/png": "[encoded data removed]",
      "text/plain": [
       "<Figure size 640x480 with 1 Axes>"
      ]
     },
     "metadata": {},
     "output_type": "display_data"
    }
   ],
   "source": [
    "n_list = np.linspace(0, 30, 15)\n",
    "exp = np.e ** n_list\n",
    "plt.plot(exp);\n",
    "print(exp[-1], exp[0])"
   ]
  },
  {
   "cell_type": "code",
   "execution_count": 281,
   "id": "7ef90fa3-0039-4353-aafb-d25e9b132527",
   "metadata": {},
   "outputs": [
    {
     "name": "stdout",
     "output_type": "stream",
     "text": [
      "[121.51041751893969, 3.3534846525504487, 10.85906266492961]\n",
      "135.72296483641975\n",
      "Normalized values\n",
      "[0.8952826639573506, 0.024708306782070668, 0.08000902926057876]\n",
      " 1.0\n"
     ]
    }
   ],
   "source": [
    "# Normalization and probability distribuation \n",
    "layer_outputs = [4.8, 1.21, 2.385]\n",
    "\n",
    "exp_values = []\n",
    "for v in layer_outputs:\n",
    "    exp_values.append(E ** v)\n",
    "print(exp_values)\n",
    "\n",
    "# Normalize the values\n",
    "norm_base = np.sum(exp_values)\n",
    "print(norm_base)\n",
    "\n",
    "norm_values = []\n",
    "\n",
    "for v in exp_values:\n",
    "    norm_values.append(v/norm_base)\n",
    "\n",
    "print(\"Normalized values\")\n",
    "print(norm_values)\n",
    "print(\"\", np.sum(norm_values))\n"
   ]
  },
  {
   "cell_type": "markdown",
   "id": "260e36bd-4e3b-40fd-a4c5-f453c8625407",
   "metadata": {},
   "source": [
    "##### Softmax opeating with numpy"
   ]
  },
  {
   "cell_type": "code",
   "execution_count": 283,
   "id": "46bc9a0f-4159-4b20-acd0-dc0091c49942",
   "metadata": {},
   "outputs": [
    {
     "name": "stdout",
     "output_type": "stream",
     "text": [
      "Exponentials: [121.51041752   3.35348465  10.85906266]\n",
      "Normalized exponentials: [0.89528266 0.02470831 0.08000903]\n",
      "Sum of norm values: 0.9999999999999999\n"
     ]
    }
   ],
   "source": [
    "import numpy as np\n",
    "\n",
    "# Layer values\n",
    "layer_outputs = [4.8, 1.21, 2.385]\n",
    "\n",
    "# For each value in a vector, calculate the exponential value\n",
    "exp_values = np.exp(layer_outputs)\n",
    "print(\"Exponentials:\", exp_values)\n",
    "\n",
    "# Normalized values\n",
    "norm_values = exp_values / np.sum(exp_values)\n",
    "print(\"Normalized exponentials:\", norm_values)\n",
    "print(\"Sum of norm values:\", np.sum(norm_values))"
   ]
  },
  {
   "cell_type": "markdown",
   "id": "9027888b-b53e-4f29-b3ca-118a2374a883",
   "metadata": {},
   "source": [
    "##### Perporming normalized operating to multi-dimentioanl array"
   ]
  },
  {
   "cell_type": "code",
   "execution_count": 287,
   "id": "0d96dba6-3e59-421a-8067-8ab7e7c7a509",
   "metadata": {},
   "outputs": [
    {
     "name": "stdout",
     "output_type": "stream",
     "text": [
      "Sum without providing axis\n",
      "18.172\n",
      "With axis=None 18.172\n",
      "With axis=0 [15.11   0.451  2.611]\n",
      "With axis=1 [8.395 7.29  2.487]\n"
     ]
    }
   ],
   "source": [
    "layer_outputs = np.array([[4.8, 1.21, 2.385],\n",
    "                         [8.9, -1.81, 0.2],\n",
    "                         [1.41, 1.051, 0.026]])\n",
    "print(\"Sum without providing axis\")\n",
    "print(np.sum(layer_outputs))\n",
    "\n",
    "print(\"With axis=None\", np.sum(layer_outputs, axis=None))\n",
    "\n",
    "# axis=0 means to sum row-wise, along axis 0\n",
    "print(\"With axis=0\", np.sum(layer_outputs, axis=0))\n",
    "\n",
    "# axis=1 mean to sum column-wise along axis 1\n",
    "print(\"With axis=1\", np.sum(layer_outputs, axis=1))"
   ]
  },
  {
   "cell_type": "markdown",
   "id": "30a01e4e-5500-4674-86a4-774cb7e818d5",
   "metadata": {},
   "source": [
    "##### If we want to keep the dimension to the values of sum we can use keepdims=True"
   ]
  },
  {
   "cell_type": "code",
   "execution_count": 289,
   "id": "2385f136-e73b-4cca-8207-9ca117ce68e8",
   "metadata": {},
   "outputs": [
    {
     "name": "stdout",
     "output_type": "stream",
     "text": [
      "Sum axis=0 [[15.11   0.451  2.611]]\n",
      "Sum axis=1 [[8.395]\n",
      " [7.29 ]\n",
      " [2.487]]\n"
     ]
    }
   ],
   "source": [
    "print('Sum axis=0', np.sum(layer_outputs, axis=0, keepdims=True))\n",
    "print('Sum axis=1', np.sum(layer_outputs, axis=1, keepdims=True))"
   ]
  },
  {
   "cell_type": "markdown",
   "id": "6616b707-4a97-4369-a310-cf8bc09b07b0",
   "metadata": {},
   "source": [
    "##### Make a above calculation as a class"
   ]
  },
  {
   "cell_type": "code",
   "execution_count": 291,
   "id": "59f43c5d-51cd-420f-82e4-b214dd6a7da0",
   "metadata": {},
   "outputs": [],
   "source": [
    "# Softmax activation\n",
    "class Activation_Softmax:\n",
    "\n",
    "    # Forward pass\n",
    "    def forward(self, inputs):\n",
    "        \n",
    "        # Get unnormalized probabilities\n",
    "        # Subtraction included in case of dead neurons and very large numbers(referred to as exploding values)\n",
    "        # Dead neuron and enormous numbers can wreak havoc down the line and render a network useless over time\n",
    "        exp_values = np.exp(inputs - np.max(inputs, axis=1, keepdims=True))\n",
    "\n",
    "        # Normalized for each sample\n",
    "        probabilities = exp_values / np.sum(exp_values, axis=1, keepdims=True)\n",
    "\n",
    "        self.output = probabilities\n",
    "        "
   ]
  },
  {
   "cell_type": "markdown",
   "id": "73949183-5886-4100-a160-00d62e7b2e91",
   "metadata": {},
   "source": [
    "```\n",
    "we also included a subtraction of the largest of the inputs before we did the\n",
    "exponentiation. \n",
    "\n",
    "There are two main pervasive challenges with neural networks: “dead neurons”\n",
    "and very large numbers (referred to as “exploding” values). \n",
    "\n",
    "“Dead” neurons and enormous numbers can wreak havoc down the line and render a network useless over time. \n",
    "\n",
    "```\n",
    "\n",
    "The exponential function used in softmax activation is one of the sources of exploding values. Let’s see some\n",
    "examples of how and why this can easily happen:"
   ]
  },
  {
   "cell_type": "code",
   "execution_count": 292,
   "id": "d854ba04-c4be-4564-b8a3-3760609c4286",
   "metadata": {},
   "outputs": [
    {
     "name": "stdout",
     "output_type": "stream",
     "text": [
      "2.718281828459045\n"
     ]
    }
   ],
   "source": [
    "print(np.exp(1))"
   ]
  },
  {
   "cell_type": "code",
   "execution_count": 293,
   "id": "08063222-ac34-4628-9e13-720311ced46b",
   "metadata": {},
   "outputs": [
    {
     "name": "stdout",
     "output_type": "stream",
     "text": [
      "22026.465794806718\n"
     ]
    }
   ],
   "source": [
    "print(np.exp(10))"
   ]
  },
  {
   "cell_type": "code",
   "execution_count": 294,
   "id": "3e3d3d50-9b63-4b95-87a5-62ebbd4984df",
   "metadata": {},
   "outputs": [
    {
     "name": "stdout",
     "output_type": "stream",
     "text": [
      "2.6881171418161356e+43\n"
     ]
    }
   ],
   "source": [
    "print(np.exp(100))"
   ]
  },
  {
   "cell_type": "code",
   "execution_count": 297,
   "id": "fda221d8-fd41-45b7-89ea-06f702bdbb8b",
   "metadata": {},
   "outputs": [
    {
     "name": "stdout",
     "output_type": "stream",
     "text": [
      "inf\n"
     ]
    },
    {
     "name": "stderr",
     "output_type": "stream",
     "text": [
      "/tmp/ipykernel_5106/2528843860.py:1: RuntimeWarning: overflow encountered in exp\n",
      "  print(np.exp(1000))\n"
     ]
    }
   ],
   "source": [
    "print(np.exp(1000))"
   ]
  },
  {
   "cell_type": "markdown",
   "id": "f5aa10ff-fba8-45d6-96b2-7cf066aff237",
   "metadata": {},
   "source": [
    "##### exponential function overflow quickly"
   ]
  },
  {
   "cell_type": "code",
   "execution_count": 302,
   "id": "3b606c7c-3cd4-4ac8-b302-ae26cd653780",
   "metadata": {},
   "outputs": [
    {
     "name": "stdout",
     "output_type": "stream",
     "text": [
      "0.0 1.0\n"
     ]
    }
   ],
   "source": [
    "print(np.exp(-np.inf), np.exp(0))"
   ]
  },
  {
   "cell_type": "code",
   "execution_count": 303,
   "id": "79a29b07-2987-4356-a8f5-51dbb2f901c5",
   "metadata": {},
   "outputs": [
    {
     "name": "stdout",
     "output_type": "stream",
     "text": [
      "[[0.09003057 0.24472847 0.66524096]] 0.9999999999999999\n"
     ]
    }
   ],
   "source": [
    "softmax = Activation_Softmax()\n",
    "\n",
    "softmax.forward([[1, 2, 3]])\n",
    "\n",
    "print(softmax.output, np.sum(softmax.output))"
   ]
  },
  {
   "cell_type": "markdown",
   "id": "754e0d78-724d-4911-b474-ac1102bcfe73",
   "metadata": {},
   "source": [
    "#### Applying to heat disease"
   ]
  },
  {
   "cell_type": "code",
   "execution_count": 309,
   "id": "b9b20a28-8797-4112-85c1-f1a55b433860",
   "metadata": {},
   "outputs": [
    {
     "name": "stdout",
     "output_type": "stream",
     "text": [
      "[[0.48897737 0.51102263]\n",
      " [0.4869459  0.5130541 ]\n",
      " [0.48981186 0.51018814]\n",
      " [0.4879791  0.5120209 ]\n",
      " [0.48108727 0.51891273]\n",
      " [0.49125916 0.50874084]\n",
      " [0.4850899  0.5149101 ]\n",
      " [0.48607131 0.51392869]\n",
      " [0.49102375 0.50897625]\n",
      " [0.49260577 0.50739423]\n",
      " [0.4882682  0.5117318 ]\n",
      " [0.48587475 0.51412525]\n",
      " [0.48624898 0.51375102]\n",
      " [0.48963711 0.51036289]\n",
      " [0.48579338 0.51420662]]\n",
      "[1 1 1 1 1 1 1 1 1 1 1 1 1 1 1]\n"
     ]
    }
   ],
   "source": [
    "# Create a dense layer\n",
    "dense1 = Dense_Layer(13, 5) # 13 input features and 4 neurons\n",
    "\n",
    "# Create a ReLU activation function\n",
    "relu = Activation_ReLU()\n",
    "\n",
    "# Create second Dense layer with 5 input features (as we take output of previous layer here) and 2 output values\n",
    "dense2 = Dense_Layer(5, 2)\n",
    "\n",
    "# Create Softmax activation (to be used with Dense layer):\n",
    "softmax = Activation_Softmax()\n",
    "\n",
    "# Make forward pass of our training data through dense1\n",
    "dense1.forward(features)\n",
    "\n",
    "# Make a forward pass through activation function\n",
    "relu.forward(dense1.output)\n",
    "\n",
    "# Make a forward pass through second Dense Layer\n",
    "dense2.forward(relu.output)\n",
    "\n",
    "# Make a forward pass through activation function\n",
    "softmax.forward(dense2.output)\n",
    "\n",
    "print(softmax.output)\n",
    "print(target)"
   ]
  },
  {
   "cell_type": "markdown",
   "id": "99fa99d4-4034-426c-8bc2-a2eada3d898c",
   "metadata": {},
   "source": [
    "## Calculating Network Error with Loss\n",
    "\n",
    "With a randomly-initialized model, or even a model initialized with more sophisticated approaches, our goal is to train, or teach, a model over time.\n",
    "\n",
    "To train a model, we tweak the weights and biases to improve the model's accuracy and confidence. To do this, we calculate how much error the model has.\n",
    "\n",
    "The **loss function**, also referred to as the **cost function**, is the algorithm that quantifies how wrong a model is. Loss is the measure of the metrics. Since loss is the model's error, we ideally want it to be 0.\n",
    "\n"
   ]
  },
  {
   "cell_type": "markdown",
   "id": "85d19ed1-033d-4267-bc0b-09d02bcb7e1b",
   "metadata": {},
   "source": [
    "#### Categorical Cross-Entropy Loss\n",
    "\n",
    "One of the loss function used in Neural Network that do regression is **squared error**(or **mean squared error**)\n",
    "\n",
    "However to perform classification we need a different loss function. Our model has a **softmax** activation function for the output layer, which means it's outputing a probability distrubution.\n",
    "\n",
    "**Categorical Cross-Entropy** is explicitly used to compare a \"ground-truth\" probability (y or \"target\") and some predicted distribution (y-hat or \"predictions\").\n",
    "\n",
    "<p style=\"color: blue\">It is the most commonly used loss functions with a softmax activation function on the output layer</p>\n",
    "\n",
    "Equation for calculating the categorical cross-entropy of y (actual/desired distribuation) and y-hat(predicted distribution) is:\n",
    "\n",
    "```\n",
    "L<i> = - Sum(y<i,j>*log(Y<i, j>))\n",
    "```\n",
    "\n",
    "Where `L<i>` denotes sample loss value, i is the i-th sample in the set, j is the label/output index.\n",
    "y denotes the target values, and Y denotes the predicted values.\n",
    "\n",
    "Simplifyed equation -log(correct_class_confidence):\n",
    "\n",
    "```\n",
    "L<i> = - log(Y<i,k>) where k is an index of \"true\" probability\n",
    "```\n",
    "We have another loss function that called **log loss** error function, this function is apply to the output of a binary logistic regression model.\n",
    "\n",
    "Example:\n",
    "\n",
    "```\n",
    "softmax_output = [0.7, 0.1, 0.2]\n",
    "target = [1, 0, 0]\n",
    "\n",
    "L<i> = -Sum(y<i,j>log(Y<i,j>))\n",
    "     = -(1.log(0.7) + 0.log(0.1) + 0.log(0.2))\n",
    "     = -(-0.3566749..+0+0) = 0.35667....   \n",
    "```\n"
   ]
  },
  {
   "cell_type": "code",
   "execution_count": 310,
   "id": "229767ee-930d-4b6a-a166-c4343a0381cf",
   "metadata": {},
   "outputs": [
    {
     "name": "stdout",
     "output_type": "stream",
     "text": [
      "0.35667494393873245\n",
      "The history saving thread hit an unexpected error (OperationalError('attempt to write a readonly database')).History will not be written to the database.\n"
     ]
    }
   ],
   "source": [
    "# Categorical cross entropy with python\n",
    "import math\n",
    "\n",
    "# Example Output\n",
    "softmax_output = [0.7, 0.1, 0.2]\n",
    "\n",
    "# Ground truth\n",
    "target_output = [1, 0, 0]\n",
    "\n",
    "loss = -(math.log(softmax_output[0])*target_output[0] +\n",
    "        target_output[1]*math.log(softmax_output[1]) +\n",
    "        target_output[2]*math.log(softmax_output[2]))\n",
    "\n",
    "print(loss)\n"
   ]
  },
  {
   "cell_type": "code",
   "execution_count": null,
   "id": "40cf2601-7b2e-44f5-bc79-0d334b3697e6",
   "metadata": {},
   "outputs": [],
   "source": []
  }
 ],
 "metadata": {
  "kernelspec": {
   "display_name": "Python 3 (ipykernel)",
   "language": "python",
   "name": "python3"
  },
  "language_info": {
   "codemirror_mode": {
    "name": "ipython",
    "version": 3
   },
   "file_extension": ".py",
   "mimetype": "text/x-python",
   "name": "python",
   "nbconvert_exporter": "python",
   "pygments_lexer": "ipython3",
   "version": "3.11.3"
  }
 },
 "nbformat": 4,
 "nbformat_minor": 5
}
