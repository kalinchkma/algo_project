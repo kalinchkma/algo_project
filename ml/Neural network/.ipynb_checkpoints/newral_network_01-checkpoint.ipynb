{
 "cells": [
  {
   "cell_type": "markdown",
   "id": "2692deb5",
   "metadata": {},
   "source": [
    "# Neural Network from scratch"
   ]
  },
  {
   "cell_type": "code",
   "execution_count": 1,
   "id": "898828bf-c849-4c5f-8461-70d7a8b31f2a",
   "metadata": {},
   "outputs": [],
   "source": [
    "import numpy as np\n",
    "import pandas as pd\n",
    "import matplotlib.pyplot as plt"
   ]
  },
  {
   "cell_type": "markdown",
   "id": "4b6faa08",
   "metadata": {},
   "source": [
    "## Single neuron\n",
    "\n",
    "- Each Neuron has a input, weight and biases\n",
    "- Weight and bias changes during training\n",
    "- The value of weight and biases are what get trained, and they are what make a model work or not work."
   ]
  },
  {
   "cell_type": "code",
   "execution_count": 3,
   "id": "9f46fab6",
   "metadata": {},
   "outputs": [
    {
     "name": "stdout",
     "output_type": "stream",
     "text": [
      "6.499999999999999\n"
     ]
    }
   ],
   "source": [
    "# Example of neuron that has a weights and bias\n",
    "'''\n",
    "This single neuron has a three inputs, \n",
    "- One neuron has only one bias\n",
    "'''\n",
    "inputs = [5, 7, 9]\n",
    "weights = [0.4, 0.7, -0.3]\n",
    "bias = 2.3\n",
    "\n",
    "# Output of this neuron\n",
    "'''\n",
    "Neuron calculation\n",
    "-> output = input*weights + bias\n",
    "'''\n",
    "output = (inputs[0]*weights[0] +\n",
    "          inputs[1]*weights[1] +\n",
    "          inputs[2]*weights[2] + bias)\n",
    "print(output)"
   ]
  },
  {
   "cell_type": "code",
   "execution_count": 4,
   "id": "440b7e8f",
   "metadata": {},
   "outputs": [
    {
     "name": "stdout",
     "output_type": "stream",
     "text": [
      "4.8\n"
     ]
    }
   ],
   "source": [
    "# Ex: Neuron with four inputs\n",
    "# ---\n",
    "# Neuron inputs\n",
    "inputs = [1.0, 2.0, 3.0, 2.5]\n",
    "weights = [0.2, 0.8, -0.5, 1.0]\n",
    "bias = 2.0\n",
    "# Neuron outputs\n",
    "output = inputs[0]*weights[0] + inputs[1]*weights[1] + inputs[2]*weights[2] + inputs[3]*weights[3] + bias\n",
    "\n",
    "print(output)\n"
   ]
  },
  {
   "cell_type": "markdown",
   "id": "1028c75f",
   "metadata": {},
   "source": [
    "## A Layer of Neurons\n",
    "\n",
    "- In NN typically have layers that consist of more than one neuron. Layers are nothing more than groups of neurons\n",
    "- Neuron input can be trained data or output from previous neuron"
   ]
  },
  {
   "cell_type": "code",
   "execution_count": 7,
   "id": "bf0e502f",
   "metadata": {},
   "outputs": [
    {
     "name": "stdout",
     "output_type": "stream",
     "text": [
      "[4.8, 1.21, 2.385]\n"
     ]
    }
   ],
   "source": [
    "# Eg: layes that has 3 neuron and 4 inputs\n",
    "#---\n",
    "# inputs\n",
    "inputs = [1, 2, 3, 2.5]\n",
    "\n",
    "# weigths\n",
    "weights1 = [0.2, 0.8, -0.5, 1.0]\n",
    "weights2 = [0.5, -0.91, 0.26, -0.5]\n",
    "weights3 = [-0.26, -0.27, 0.17, 0.87]\n",
    "\n",
    "# bias\n",
    "bias1 = 2\n",
    "bias2 = 3\n",
    "bias3 = 0.5\n",
    "\n",
    "# layers of neurons\n",
    "layer = [\n",
    "    # Neuron 1:\n",
    "    inputs[0]*weights1[0] +\n",
    "    inputs[1]*weights1[1] +\n",
    "    inputs[2]*weights1[2] +\n",
    "    inputs[3]*weights1[3] + bias1,\n",
    "    \n",
    "    # Neuron 2:\n",
    "    inputs[0]*weights2[0] +\n",
    "    inputs[1]*weights2[1] +\n",
    "    inputs[2]*weights2[2] +\n",
    "    inputs[3]*weights2[3] + bias2,\n",
    "    \n",
    "    # Neuron 3:\n",
    "    inputs[0]*weights3[0] +\n",
    "    inputs[1]*weights3[1] +\n",
    "    inputs[2]*weights3[2] +\n",
    "    inputs[3]*weights3[3] + bias3\n",
    "]\n",
    "\n",
    "print(layer)\n",
    "\n"
   ]
  },
  {
   "cell_type": "markdown",
   "id": "2c60d991",
   "metadata": {},
   "source": [
    "## Upgrading current method of calculating nn"
   ]
  },
  {
   "cell_type": "code",
   "execution_count": 10,
   "id": "b50769fa",
   "metadata": {},
   "outputs": [
    {
     "name": "stdout",
     "output_type": "stream",
     "text": [
      "[4.8, 1.21, 2.385]\n"
     ]
    }
   ],
   "source": [
    "# Previous exemple with upgraded method\n",
    "# initial inputs, weight and biases\n",
    "inputs = [1, 2, 3, 2.5]\n",
    "weights = [[0.2, 0.8, -0.5, 1],\n",
    "           [0.5, -0.91, 0.26, -0.5],\n",
    "           [-0.26, -0.27, 0.17, 0.87]]\n",
    "biases = [2, 3, 0.5]\n",
    "\n",
    "# Output layers\n",
    "layer = []\n",
    "\n",
    "# Iterare for each neuron\n",
    "for neuron_weights, neuron_bias in zip(weights, biases):\n",
    "    # Output of given neuron\n",
    "        neuron_output = 0\n",
    "        # calulating for each input and weight\n",
    "        for n_input, weight in zip(inputs, neuron_weights):\n",
    "            # Multiply this input by associated weight\n",
    "            # and add to the neuron output variable\n",
    "            neuron_output += n_input*weight\n",
    "        # Add bias to neuron\n",
    "    neuron_output += neuron_bias\n",
    "    # Put neuron output to layer\n",
    "    layer.append(neuron_output)\n",
    "\n",
    "print(layer)\n",
    "\n"
   ]
  },
  {
   "cell_type": "markdown",
   "id": "5bd02411",
   "metadata": {},
   "source": [
    "## Tensor, Arrays and Vectors\n",
    "\n",
    "- A Tensor object is an object that can be represented as an array\n",
    "- Vector can be call a list in Python and Array others\n",
    "- Matrics can be call list of list on Python"
   ]
  },
  {
   "cell_type": "code",
   "execution_count": 12,
   "id": "9055f5e4",
   "metadata": {},
   "outputs": [
    {
     "name": "stdout",
     "output_type": "stream",
     "text": [
      "[[[2, 4, 9], [5, 3, 5]], [[5, 8, 1], [4, 7, 9.2]]] \n",
      " [2, 4, 1, 4] \n",
      " [[3, 2], [4, 1], [2, 1]]\n"
     ]
    }
   ],
   "source": [
    "tensor = [[[2, 4, 9],\n",
    "          [5, 3, 5]],\n",
    "         [[5, 8, 1],\n",
    "          [4, 7,9.2]]]\n",
    "\n",
    "vector = [2, 4, 1, 4] # array\n",
    "\n",
    "matrics = [[3, 2],\n",
    "          [4, 1],\n",
    "          [2, 1]]\n",
    "\n",
    "print(tensor,\"\\n\",vector,\"\\n\", matrics)"
   ]
  },
  {
   "cell_type": "markdown",
   "id": "2c5ba289",
   "metadata": {},
   "source": [
    "## Dot Product and Vector Addition\n",
    "- A dot product of two vectors is a sum of product of consecutive vector elements\n",
    "- Both vectors must be of the same size"
   ]
  },
  {
   "cell_type": "code",
   "execution_count": 13,
   "id": "f440b6e3",
   "metadata": {},
   "outputs": [
    {
     "data": {
      "text/plain": [
       "20"
      ]
     },
     "execution_count": 13,
     "metadata": {},
     "output_type": "execute_result"
    }
   ],
   "source": [
    "a = [1, 2, 3]\n",
    "b = [2, 3, 4]\n",
    "dot_product = a[0]*b[0] + a[1]*b[1] + a[2]*b[2]\n",
    "dot_product"
   ]
  },
  {
   "cell_type": "markdown",
   "id": "443e5612",
   "metadata": {},
   "source": [
    "## Single Neuron with Numpy"
   ]
  },
  {
   "cell_type": "code",
   "execution_count": 15,
   "id": "c01baff5",
   "metadata": {},
   "outputs": [
    {
     "data": {
      "text/plain": [
       "4.8"
      ]
     },
     "execution_count": 15,
     "metadata": {},
     "output_type": "execute_result"
    }
   ],
   "source": [
    "import numpy as np\n",
    "\n",
    "inputs = [1.0, 2.0, 3.0, 2.5]\n",
    "weights = [0.2, 0.8, -0.5, 1.0]\n",
    "bias = 2.0\n",
    "\n",
    "output = np.dot(weights, inputs) + bias\n",
    "output"
   ]
  },
  {
   "cell_type": "markdown",
   "id": "5f7dd7ee",
   "metadata": {},
   "source": [
    "## A Layer of Neurons with NumPy\n"
   ]
  },
  {
   "cell_type": "code",
   "execution_count": 16,
   "id": "988e9340",
   "metadata": {},
   "outputs": [
    {
     "data": {
      "text/plain": [
       "array([4.8  , 1.21 , 2.385])"
      ]
     },
     "execution_count": 16,
     "metadata": {},
     "output_type": "execute_result"
    }
   ],
   "source": [
    "inputs = [1.0, 2.0, 3.0, 2.5]\n",
    "weights = [[0.2, 0.8, -0.5, 1],\n",
    "          [0.5, -0.91, 0.26, -0.5],\n",
    "          [-0.26, -0.27, 0.17, 0.87]]\n",
    "biases = [2.0, 3.0, 0.5]\n",
    "\n",
    "layer_outputs = np.dot(weights, inputs) + biases\n",
    "\n",
    "layer_outputs"
   ]
  },
  {
   "cell_type": "code",
   "execution_count": 17,
   "id": "babccf14",
   "metadata": {},
   "outputs": [
    {
     "data": {
      "text/plain": [
       "(array([1. , 2. , 3. , 2.5]),\n",
       " array([[ 0.2 ,  0.8 , -0.5 ,  1.  ],\n",
       "        [ 0.5 , -0.91,  0.26, -0.5 ],\n",
       "        [-0.26, -0.27,  0.17,  0.87]]),\n",
       " array([2. , 3. , 0.5]))"
      ]
     },
     "execution_count": 17,
     "metadata": {},
     "output_type": "execute_result"
    }
   ],
   "source": [
    "inputs = np.array([1.0, 2.0, 3.0, 2.5])\n",
    "weights = np.array([[0.2, 0.8, -0.5, 1],\n",
    "          [0.5, -0.91, 0.26, -0.5],\n",
    "          [-0.26, -0.27, 0.17, 0.87]])\n",
    "biases = np.array([2.0, 3.0, 0.5])\n",
    "inputs, weights, biases"
   ]
  },
  {
   "cell_type": "code",
   "execution_count": 21,
   "id": "99bb0ad2",
   "metadata": {},
   "outputs": [
    {
     "data": {
      "text/plain": [
       "array([34, 50])"
      ]
     },
     "execution_count": 21,
     "metadata": {},
     "output_type": "execute_result"
    }
   ],
   "source": [
    "mat1 = [[1, 2, 4],\n",
    "       [2, 4, 5]]\n",
    "mat2 = [2, 4, 6]\n",
    "np.dot(mat1, mat2)"
   ]
  },
  {
   "cell_type": "markdown",
   "id": "98b92b19",
   "metadata": {},
   "source": [
    "**NOTE**: When it comes to dot product \n",
    "```\n",
    "    array[2, 4, 7] \n",
    "    \n",
    "    array[[2],                                                    \n",
    "          [4], \n",
    "          [7]] \n",
    " ```\n",
    " Are same"
   ]
  },
  {
   "cell_type": "markdown",
   "id": "43e97027",
   "metadata": {},
   "source": [
    "## A Batch of Data \n",
    "\n",
    "- A Batch is a sample of data that given as a inputs at a time"
   ]
  },
  {
   "cell_type": "code",
   "execution_count": 22,
   "id": "b24a071a",
   "metadata": {},
   "outputs": [],
   "source": [
    "batch = [[2, 4, 2],\n",
    "        [3, 5, 1],\n",
    "        [5, 8, 9],\n",
    "        [1, 2, 4]]"
   ]
  },
  {
   "cell_type": "markdown",
   "id": "c38e4da2",
   "metadata": {},
   "source": [
    "## Matrix Product"
   ]
  },
  {
   "cell_type": "code",
   "execution_count": 23,
   "id": "e7ad754c",
   "metadata": {},
   "outputs": [
    {
     "data": {
      "text/plain": [
       "array([[ 30,  63,  17],\n",
       "       [ 21,  66,  25],\n",
       "       [ 37, 104,  39]])"
      ]
     },
     "execution_count": 23,
     "metadata": {},
     "output_type": "execute_result"
    }
   ],
   "source": [
    "mat1 = [[2, 4, 5],\n",
    "       [4, 5, 1],\n",
    "       [6, 7, 3]]\n",
    "mat2 = [[3, 9, 6],\n",
    "       [1, 5, 0],\n",
    "       [4, 5, 1]]\n",
    "np.dot(mat1, mat2)"
   ]
  },
  {
   "cell_type": "markdown",
   "id": "d18e0558",
   "metadata": {},
   "source": [
    "## Transposition of the matrix product"
   ]
  },
  {
   "cell_type": "code",
   "execution_count": 28,
   "id": "c0235172",
   "metadata": {},
   "outputs": [
    {
     "name": "stdout",
     "output_type": "stream",
     "text": [
      "[[1 3 2]\n",
      " [3 1 5]\n",
      " [5 8 1]] \n",
      "\n",
      "[[1 3 5]\n",
      " [3 1 8]\n",
      " [2 5 1]]\n"
     ]
    }
   ],
   "source": [
    "mat = np.array([\n",
    "       [1, 3, 2],\n",
    "       [3, 1, 5],\n",
    "       [5, 8, 1]\n",
    "      ])\n",
    "print(mat, \"\\n\")\n",
    "print(np.transpose(mat))"
   ]
  },
  {
   "cell_type": "code",
   "execution_count": 50,
   "id": "0fb8e6ea",
   "metadata": {},
   "outputs": [
    {
     "name": "stdout",
     "output_type": "stream",
     "text": [
      "[[1 2 3]\n",
      " [4 2 9]]\n",
      "------------------\n",
      "[[[1 2 3]\n",
      "  [4 2 9]]] 3 2\n",
      "------------------\n",
      "[[[1 2 3]]\n",
      "\n",
      " [[4 2 9]]] 3 2\n"
     ]
    }
   ],
   "source": [
    "# array expense\n",
    "a = np.array([[1, 2, 3], [4, 2, 9]])\n",
    "a2 = np.array([a])\n",
    "a3 = np.expand_dims(np.array(a), axis=1)\n",
    "print(a)\n",
    "print(\"------------------\")\n",
    "print(a2, a2.ndim, a.ndim)\n",
    "print(\"------------------\")\n",
    "print(a3, a3.ndim, a.ndim)"
   ]
  },
  {
   "cell_type": "code",
   "execution_count": 54,
   "id": "c1013780",
   "metadata": {},
   "outputs": [
    {
     "name": "stdout",
     "output_type": "stream",
     "text": [
      "[[2 1 4]\n",
      " [5 1 7]\n",
      " [6 2 3]] 2\n",
      "------------\n",
      "[[[2 1 4]]\n",
      "\n",
      " [[5 1 7]]\n",
      "\n",
      " [[6 2 3]]] 3\n"
     ]
    }
   ],
   "source": [
    "mat = np.array([[2, 1, 4], [5, 1, 7], [6, 2, 3]])\n",
    "print(mat, mat.ndim)\n",
    "print(\"------------\")\n",
    "print(np.expand_dims(mat, axis=1), np.expand_dims(mat, axis=1).ndim)"
   ]
  },
  {
   "cell_type": "code",
   "execution_count": 59,
   "id": "83db667e",
   "metadata": {},
   "outputs": [
    {
     "name": "stdout",
     "output_type": "stream",
     "text": [
      "[[1 2 3]]\n",
      "[[2]\n",
      " [3]\n",
      " [4]]\n",
      "[[ 2  4  6]\n",
      " [ 3  6  9]\n",
      " [ 4  8 12]] 2 2\n"
     ]
    }
   ],
   "source": [
    "# transpose\n",
    "a = [1, 2, 3]\n",
    "b = [2, 3, 4]\n",
    "\n",
    "a = np.array([a])\n",
    "b = np.array([b]).T\n",
    "print(a)\n",
    "print(b)\n",
    "print(np.dot(b, a), a.ndim, b.ndim)"
   ]
  },
  {
   "cell_type": "markdown",
   "id": "474b4661",
   "metadata": {},
   "source": [
    "## A Layer of Neurons & Batch of Data with NumPy"
   ]
  },
  {
   "cell_type": "code",
   "execution_count": 63,
   "id": "aae52f8a",
   "metadata": {},
   "outputs": [
    {
     "name": "stdout",
     "output_type": "stream",
     "text": [
      "[[ 4.8    1.21   2.385]\n",
      " [ 8.9   -1.81   0.2  ]\n",
      " [ 1.41   1.051  0.026]]\n"
     ]
    }
   ],
   "source": [
    "inputs = [[1.0, 2.0, 3.0, 2.5],\n",
    "         [2.0, 5.0, -1.0, 2.0],\n",
    "         [-1.5, 2.7, 3.3, -0.8]]\n",
    "\n",
    "weights = [[0.2, 0.8, -0.5, 1.0],\n",
    "          [0.5, -0.91, 0.26, -0.5],\n",
    "          [-0.26, -0.27, 0.17, 0.87]]\n",
    "\n",
    "biases = [2.0, 3.0, 0.5]\n",
    "\n",
    "outputs = np.dot(inputs, np.array(weights).T) + biases\n",
    "\n",
    "print(outputs)"
   ]
  },
  {
   "cell_type": "markdown",
   "id": "5c9d82c3",
   "metadata": {},
   "source": [
    "## Adding Layers\n",
    "\n",
    "- Neural network with two layers"
   ]
  },
  {
   "cell_type": "code",
   "execution_count": null,
   "id": "ed58c73f",
   "metadata": {},
   "outputs": [],
   "source": [
    "import numpy as np\n",
    "\n",
    "inputs = [[1, 2, 3, 2.5],\n",
    "         [2., 5., -1., 2.],\n",
    "         [-1.5, 2.7, 3.3, -0.8]]\n",
    "# Layer 1: weights & biases\n",
    "weights = [[0.2, 0.8, -0.5, 1],\n",
    "          [0.5, -0.91, 0.26, -0.5],\n",
    "          [-0.26, -0.27, 0.17, 0.87]]\n",
    "biases = [2, 3, 0.5]\n",
    "\n",
    "# Layer 2: weights & biases\n",
    "weights2 = [[0.1, -0.14, 0.5],\n",
    "          [-0.5, 0.12, -0.33],\n",
    "          [-0.44, 0.73, -0.13]]\n",
    "biases2 = [-1, 2, -0.5]\n",
    "\n",
    "# Layer 1: Calculation\n",
    "layer1 = np.dot(inputs, np.array(weights).T) + biases\n",
    "\n",
    "# Layer 2: Calculation\n",
    "layer2 = np.dot(inputs, np.array(weights2).T) + biases2\n",
    "\n",
    "print(\"Layer 1: output\",layer1)\n"
   ]
  }
 ],
 "metadata": {
  "kernelspec": {
   "display_name": "Python 3 (ipykernel)",
   "language": "python",
   "name": "python3"
  },
  "language_info": {
   "codemirror_mode": {
    "name": "ipython",
    "version": 3
   },
   "file_extension": ".py",
   "mimetype": "text/x-python",
   "name": "python",
   "nbconvert_exporter": "python",
   "pygments_lexer": "ipython3",
   "version": "3.11.3"
  }
 },
 "nbformat": 4,
 "nbformat_minor": 5
}
